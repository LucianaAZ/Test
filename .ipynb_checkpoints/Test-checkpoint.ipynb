{
 "cells": [
  {
   "cell_type": "markdown",
   "id": "26b12e27-4105-4c43-8624-646edc768b09",
   "metadata": {},
   "source": [
    "# Primer Código"
   ]
  },
  {
   "cell_type": "code",
   "execution_count": 5,
   "id": "09eddba2-6362-4933-95a9-b6945f83f977",
   "metadata": {},
   "outputs": [],
   "source": [
    "x=10\n",
    "y=20\n",
    "z=x+y"
   ]
  },
  {
   "cell_type": "code",
   "execution_count": 4,
   "id": "c2b911dd-eac5-4c7c-89cc-9a415a490b83",
   "metadata": {},
   "outputs": [
    {
     "data": {
      "text/plain": [
       "30"
      ]
     },
     "execution_count": 4,
     "metadata": {},
     "output_type": "execute_result"
    }
   ],
   "source": [
    "z"
   ]
  },
  {
   "cell_type": "code",
   "execution_count": null,
   "id": "4eeccd38-addc-4420-bcba-3c2d3b90c616",
   "metadata": {},
   "outputs": [],
   "source": []
  }
 ],
 "metadata": {
  "kernelspec": {
   "display_name": "Python 3 (ipykernel)",
   "language": "python",
   "name": "python3"
  },
  "language_info": {
   "codemirror_mode": {
    "name": "ipython",
    "version": 3
   },
   "file_extension": ".py",
   "mimetype": "text/x-python",
   "name": "python",
   "nbconvert_exporter": "python",
   "pygments_lexer": "ipython3",
   "version": "3.11.7"
  }
 },
 "nbformat": 4,
 "nbformat_minor": 5
}
